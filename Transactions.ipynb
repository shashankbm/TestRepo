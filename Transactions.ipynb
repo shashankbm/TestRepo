{
    "cells": [
        {
            "cell_type": "markdown",
            "metadata": {},
            "source": "## Explore Data"
        },
        {
            "cell_type": "code",
            "execution_count": 1,
            "metadata": {},
            "outputs": [
                {
                    "data": {
                        "text/html": "<div>\n<style scoped>\n    .dataframe tbody tr th:only-of-type {\n        vertical-align: middle;\n    }\n\n    .dataframe tbody tr th {\n        vertical-align: top;\n    }\n\n    .dataframe thead th {\n        text-align: right;\n    }\n</style>\n<table border=\"1\" class=\"dataframe\">\n  <thead>\n    <tr style=\"text-align: right;\">\n      <th></th>\n      <th>Account</th>\n      <th>Date</th>\n      <th>Original Date</th>\n      <th>Description</th>\n      <th>Original Description</th>\n      <th>Amount</th>\n      <th>Currency</th>\n      <th>Category</th>\n      <th>Budget</th>\n    </tr>\n  </thead>\n  <tbody>\n    <tr>\n      <th>0</th>\n      <td>NaN</td>\n      <td>NaN</td>\n      <td>NaN</td>\n      <td>NaN</td>\n      <td>NaN</td>\n      <td>NaN</td>\n      <td>NaN</td>\n      <td>NaN</td>\n      <td>NaN</td>\n    </tr>\n    <tr>\n      <th>1</th>\n      <td>BASAVARA M S</td>\n      <td>13-11-2021</td>\n      <td>13-11-2021</td>\n      <td>S Jagannath       SRIVIDYA JAGANNATH</td>\n      <td>S Jagannath       SRIVIDYA JAGANNATH</td>\n      <td>2000.00</td>\n      <td>GBP</td>\n      <td>Transfers</td>\n      <td>unbudgeted</td>\n    </tr>\n    <tr>\n      <th>2</th>\n      <td>BASAVARA M S</td>\n      <td>09-11-2021</td>\n      <td>09-11-2021</td>\n      <td>EDF ENERGY</td>\n      <td>EDF ENERGY</td>\n      <td>-235.26</td>\n      <td>GBP</td>\n      <td>Bills</td>\n      <td>unbudgeted</td>\n    </tr>\n    <tr>\n      <th>3</th>\n      <td>BASAVARA M S</td>\n      <td>09-11-2021</td>\n      <td>09-11-2021</td>\n      <td>400944 70303798   INTERNET TRANSFER</td>\n      <td>400944 70303798   INTERNET TRANSFER</td>\n      <td>500.00</td>\n      <td>GBP</td>\n      <td>Transfers</td>\n      <td>unbudgeted</td>\n    </tr>\n    <tr>\n      <th>4</th>\n      <td>BASAVARA M S</td>\n      <td>08-11-2021</td>\n      <td>08-11-2021</td>\n      <td>PAYPAL *ROYAL MAIL35314369001</td>\n      <td>PAYPAL *ROYAL MAIL35314369001</td>\n      <td>-0.66</td>\n      <td>GBP</td>\n      <td>General</td>\n      <td>unbudgeted</td>\n    </tr>\n  </tbody>\n</table>\n</div>",
                        "text/plain": "        Account        Date Original Date  \\\n0           NaN         NaN           NaN   \n1  BASAVARA M S  13-11-2021    13-11-2021   \n2  BASAVARA M S  09-11-2021    09-11-2021   \n3  BASAVARA M S  09-11-2021    09-11-2021   \n4  BASAVARA M S  08-11-2021    08-11-2021   \n\n                            Description                  Original Description  \\\n0                                   NaN                                   NaN   \n1  S Jagannath       SRIVIDYA JAGANNATH  S Jagannath       SRIVIDYA JAGANNATH   \n2                            EDF ENERGY                            EDF ENERGY   \n3   400944 70303798   INTERNET TRANSFER   400944 70303798   INTERNET TRANSFER   \n4         PAYPAL *ROYAL MAIL35314369001         PAYPAL *ROYAL MAIL35314369001   \n\n    Amount Currency   Category      Budget  \n0      NaN      NaN        NaN         NaN  \n1  2000.00      GBP  Transfers  unbudgeted  \n2  -235.26      GBP      Bills  unbudgeted  \n3   500.00      GBP  Transfers  unbudgeted  \n4    -0.66      GBP    General  unbudgeted  "
                    },
                    "execution_count": 1,
                    "metadata": {},
                    "output_type": "execute_result"
                }
            ],
            "source": "# The code was removed by Watson Studio for sharing."
        },
        {
            "cell_type": "code",
            "execution_count": null,
            "metadata": {},
            "outputs": [],
            "source": ""
        },
        {
            "cell_type": "code",
            "execution_count": null,
            "metadata": {},
            "outputs": [],
            "source": ""
        }
    ],
    "metadata": {
        "kernelspec": {
            "display_name": "Python 3.8",
            "language": "python",
            "name": "python3"
        },
        "language_info": {
            "codemirror_mode": {
                "name": "ipython",
                "version": 3
            },
            "file_extension": ".py",
            "mimetype": "text/x-python",
            "name": "python",
            "nbconvert_exporter": "python",
            "pygments_lexer": "ipython3",
            "version": "3.8.12"
        }
    },
    "nbformat": 4,
    "nbformat_minor": 1
}